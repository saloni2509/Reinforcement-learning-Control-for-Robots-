{
 "cells": [
  {
   "cell_type": "code",
   "execution_count": null,
   "metadata": {},
   "outputs": [],
   "source": [
    "import gym\n",
    "import numpy as np\n",
    "import random\n",
    "import math\n",
    "import matplotlib.pyplot as plt"
   ]
  },
  {
   "cell_type": "code",
   "execution_count": null,
   "metadata": {},
   "outputs": [],
   "source": [
    "env = gym.make('CartPole-v0')\n",
    "\n",
    "# To view the parameters\n",
    "?env.env"
   ]
  },
  {
   "cell_type": "code",
   "execution_count": null,
   "metadata": {},
   "outputs": [],
   "source": [
    "buckets = (1, 1, 6, 3)\n",
    "actions = env.action_space.n\n",
    "state_value_bounds = list(zip(env.observation_space.low, env.observation_space.high))\n",
    "\n",
    "#Defining the lower and the upper limits to the state value\n",
    "\n",
    "state_value_bounds[1] = [-0.5, 0.5]\n",
    "state_value_bounds[3] = [-math.radians(50), math.radians(50)]\n",
    "action_index = len(buckets)\n",
    "rewards = []"
   ]
  },
  {
   "cell_type": "code",
   "execution_count": null,
   "metadata": {
    "scrolled": false
   },
   "outputs": [],
   "source": [
    "# Initialise the Q table with the zeros \n",
    "\n",
    "Q_table = np.zeros(buckets + (actions,))\n",
    "Q_table"
   ]
  },
  {
   "cell_type": "code",
   "execution_count": null,
   "metadata": {},
   "outputs": [],
   "source": [
    "min_explore_rate = 0.01\n",
    "min_learning_rate = 0.1\n",
    "\n",
    "max_episodes = 800\n",
    "max_time_steps = 200\n",
    "streak_to_end = 120\n",
    "solved_time = 199\n",
    "discount = 0.99\n",
    "no_streaks = 0"
   ]
  },
  {
   "cell_type": "code",
   "execution_count": null,
   "metadata": {},
   "outputs": [],
   "source": [
    "def select_action(state_value, explore_rate):\n",
    "    if random.random() < explore_rate:\n",
    "        action = env.action_space.sample()\n",
    "    else:\n",
    "        action = np.argmax(Q_table[state_value])\n",
    "    return action\n",
    "\n",
    "\n",
    "def select_explore_rate(x):\n",
    "    return max(min_explore_rate, min(1, 1.0 - math.log10((x+1)/25)))\n",
    "\n",
    "\n",
    "def select_learning_rate(x):\n",
    "    return max(min_learning_rate, min(0.5, 1.0 - math.log10((x+1)/25)))\n",
    "\n",
    "\n",
    "def bucketize_state_value(state_value):\n",
    "    bucket_indexes = []\n",
    "    for i in range(len(state_value)):\n",
    "        if state_value[i] <= state_value_bounds[i][0]:\n",
    "            bucket_index = 0\n",
    "        elif state_value[i] >= state_value_bounds[i][1]:\n",
    "            bucket_index = buckets[i] - 1\n",
    "        else:\n",
    "            bound_width = state_value_bounds[i][1] - state_value_bounds[i][0]\n",
    "            offset = (buckets[i]-1)*state_value_bounds[i][0]/bound_width\n",
    "            scaling = (buckets[i]-1)/bound_width\n",
    "            bucket_index = int(round(scaling*state_value[i] - offset))\n",
    "        bucket_indexes.append(bucket_index)\n",
    "    return tuple(bucket_indexes)"
   ]
  },
  {
   "cell_type": "code",
   "execution_count": null,
   "metadata": {},
   "outputs": [],
   "source": [
    "for episode_no in range(max_episodes):\n",
    "    explore_rate = select_explore_rate(episode_no)\n",
    "    learning_rate = select_learning_rate(episode_no)\n",
    "\n",
    "    # Update Q table \n",
    "    \n",
    "    observation = env.reset()\n",
    "\n",
    "    start_state_value = bucketize_state_value(observation)\n",
    "    previous_state_value = start_state_value\n",
    "\n",
    "    for time_step in range(max_time_steps):\n",
    "        env.render()\n",
    "        selected_action = select_action(previous_state_value, explore_rate)\n",
    "        observation, reward_gain, completed, _ = env.step(selected_action)\n",
    "        state_value = bucketize_state_value(observation)\n",
    "        best_Q_value = np.amax(Q_table[state_value])\n",
    "        Q_table[previous_state_value + (selected_action,)] += learning_rate * (\n",
    "                    reward_gain + discount * (best_Q_value) - Q_table[previous_state_value + (selected_action,)])\n",
    "\n",
    "        print('Episode_number : %d' % episode_no)\n",
    "        print('Time_step : %d' % time_step)\n",
    "        print('Selection_action : %d' % selected_action)\n",
    "        print('Current_state : %s' % str(state_value))\n",
    "        print('Reward  : %f' % reward_gain)\n",
    "        print('Best Q_value : %f' % best_Q_value)\n",
    "        print('Learning_rate : %f' % learning_rate)\n",
    "        print('Explore_rate : %f' % explore_rate)\n",
    "        print('Streak_number : %d' % no_streaks)\n",
    "        rewards.append(best_Q_value)\n",
    "            \n",
    "        if completed:\n",
    "            print('Episode %d finished after %f time steps' % (episode_no, time_step))\n",
    "            \n",
    "            if time_step >= solved_time:\n",
    "                no_streaks += 1\n",
    "            else:\n",
    "                no_streaks = 0\n",
    "            break\n",
    "\n",
    "        previous_state_value = state_value\n",
    "\n",
    "    if no_streaks > streak_to_end:\n",
    "        break\n",
    "        "
   ]
  },
  {
   "cell_type": "code",
   "execution_count": null,
   "metadata": {},
   "outputs": [],
   "source": [
    "# Displaying the final Q_Table with the parameters when we compare it to the first previous zeros Q_Table\n",
    "# If it does not run along the code then interrupt the kernel and run the cell\n",
    "Q_table "
   ]
  },
  {
   "cell_type": "code",
   "execution_count": null,
   "metadata": {},
   "outputs": [],
   "source": [
    "# Displaying the resuts: If does not run along the code then interrupt the kernel and run the cell\n",
    "plt.plot(rewards)\n",
    "plt.title(\"Best Q_value\")\n",
    "plt.show()\n"
   ]
  },
  {
   "cell_type": "code",
   "execution_count": null,
   "metadata": {},
   "outputs": [],
   "source": []
  }
 ],
 "metadata": {
  "kernelspec": {
   "display_name": "Python 3",
   "language": "python",
   "name": "python3"
  },
  "language_info": {
   "codemirror_mode": {
    "name": "ipython",
    "version": 3
   },
   "file_extension": ".py",
   "mimetype": "text/x-python",
   "name": "python",
   "nbconvert_exporter": "python",
   "pygments_lexer": "ipython3",
   "version": "3.7.4"
  }
 },
 "nbformat": 4,
 "nbformat_minor": 2
}
